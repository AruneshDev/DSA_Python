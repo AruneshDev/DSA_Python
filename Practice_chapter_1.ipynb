{
 "cells": [
  {
   "cell_type": "code",
   "execution_count": null,
   "metadata": {},
   "outputs": [],
   "source": [
    "def is_multiple(n,m):\n",
    "    if n%m==0:\n",
    "        return True\n",
    "    else:\n",
    "        return False\n",
    "    \n",
    "print(is_multiple(15,5))    \n"
   ]
  },
  {
   "cell_type": "code",
   "execution_count": 5,
   "metadata": {},
   "outputs": [
    {
     "name": "stdout",
     "output_type": "stream",
     "text": [
      "False\n",
      "False\n"
     ]
    }
   ],
   "source": [
    "def is_even(n):\n",
    "    if n%2==0:\n",
    "        return True\n",
    "    else:\n",
    "        return False\n",
    "    \n",
    "print(is_even(5))    \n",
    "# Cannot use division , mudulo or multiplication operation\n",
    "def is_even(n):\n",
    "    return(n&1==0)\n",
    "print(is_even(5))\n"
   ]
  },
  {
   "cell_type": "code",
   "execution_count": 7,
   "metadata": {},
   "outputs": [
    {
     "name": "stdout",
     "output_type": "stream",
     "text": [
      "(-2, 8)\n"
     ]
    }
   ],
   "source": [
    "def minmax(data):\n",
    "    if len(data)==0:\n",
    "        raise ValueError(\"Data must contain atleast one element\")\n",
    "    smallest=largest=data[0]\n",
    "    for num in data:\n",
    "        if num<smallest:\n",
    "            smallest=num\n",
    "        if num>largest:\n",
    "            largest=num\n",
    "    return (smallest,largest)\n",
    "data=[3, 5, 1, 2, 4, 8, -2, 7]\n",
    "print((minmax(data)))"
   ]
  },
  {
   "cell_type": "code",
   "execution_count": 11,
   "metadata": {},
   "outputs": [
    {
     "name": "stdout",
     "output_type": "stream",
     "text": [
      "14\n"
     ]
    }
   ],
   "source": [
    "def sum_square(n):\n",
    "    sum=0\n",
    "    for i in range(0,n):\n",
    "        sum=sum+(i*i)\n",
    "    return sum\n",
    "print(sum_square(4))\n",
    "\n"
   ]
  }
 ],
 "metadata": {
  "kernelspec": {
   "display_name": "Python 3",
   "language": "python",
   "name": "python3"
  },
  "language_info": {
   "codemirror_mode": {
    "name": "ipython",
    "version": 3
   },
   "file_extension": ".py",
   "mimetype": "text/x-python",
   "name": "python",
   "nbconvert_exporter": "python",
   "pygments_lexer": "ipython3",
   "version": "3.11.0"
  }
 },
 "nbformat": 4,
 "nbformat_minor": 2
}
